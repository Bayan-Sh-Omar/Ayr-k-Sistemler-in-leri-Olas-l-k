{
  "cells": [
    {
      "cell_type": "markdown",
      "metadata": {
        "id": "view-in-github",
        "colab_type": "text"
      },
      "source": [
        "<a href=\"https://colab.research.google.com/github/Bayan-Sh-Omar/Ayr-k-Sistemler-in-leri-Olas-l-k/blob/main/ThePigeonholePrinciple.ipynb\" target=\"_parent\"><img src=\"https://colab.research.google.com/assets/colab-badge.svg\" alt=\"Open In Colab\"/></a>"
      ]
    },
    {
      "cell_type": "code",
      "execution_count": null,
      "metadata": {
        "id": "zwFnJsE6vjf8"
      },
      "outputs": [],
      "source": []
    },
    {
      "cell_type": "markdown",
      "source": [
        "**Odev1 : The pigeonhole principle**\n",
        "\n",
        "The pigeonhole principle (also known as Güvercin Problemi in Turkish) is a mathematical principle that states that if you have more items than available \"holes\" (categories), then at least one hole must contain more than one item. This principle can be applied to a wide range of problems in combinatorics, data categorization.\n",
        "\n",
        "In mathematics, the dove principle states that if n items are placed in m containers, with n > m, then at least one container must contain more than one item.\n",
        "\n",
        "If n pigeonholes are occupied by n+1 or more pigeons, then at least one pigeonhole is occupied by more than one pigeon. The generalized pigeonhole principle is: - If n pigeon holes are occupied by kn+1 or more pigeons, where k is a positive integer, then at least one pigeon hole is occupied by k+1 or more pigeons.\n",
        "\n",
        "\n",
        "**The Problem **\n",
        "\n",
        "We have a company that contains 100 engineers with different specializations\n",
        "\n",
        "*   It  engineers\n",
        "*   Civil engineer\n",
        "*   Electrical engineers\n",
        "*   Nutrition engineers\n",
        "*   Computer engineers\n",
        "\n",
        "There are 20 engineers for each type\n",
        "The company needs to send these engineers to a scientific conference\n",
        "\n",
        "What is the minimum number of engineers you should randomly select from the company to ensure we get 5 engineers of the same type?\n",
        "\n",
        "Solution: We apply the dove principle to solve this problem\n",
        "\n",
        "Total number of engineers T=100\n",
        "\n",
        "Number for each C type engineer=20\n",
        "If we assume that the number of pigeons = 6 .\n",
        "If we assume that the number of pigeons holes = 5 .\n",
        "If we choose 31 engineers at random, 5 engineers will be of the same type.\n",
        "\n",
        "Ceiling ⎡31/5⎤ = 7"
      ],
      "metadata": {
        "id": "Un67RbURRxiH"
      }
    },
    {
      "cell_type": "code",
      "source": [
        "from random import shuffle\n",
        "import math\n",
        "\n",
        "ItEng = []\n",
        "CivilEng = []\n",
        "ElectricalEng = []\n",
        "NutritionEng = []\n",
        "ComputerEng = []\n",
        "\n",
        "# fill number of engineers for each type\n",
        "NumberOfEngineers =20\n",
        "\n",
        "# fill number of holes\n",
        "NumberOfHoles =5\n",
        "\n",
        "# fill numer of Selected engineers\n",
        "NumberOfSelectedEng =6\n",
        "\n",
        "# fill numer of max engineers\n",
        "MaxNumberOfEng =math.ceil((NumberOfHoles*NumberOfSelectedEng +1)/NumberOfSelectedEng)\n",
        "print (MaxNumberOfEng)\n",
        "\n",
        "for i in range(NumberOfEngineers):\n",
        "    ItEng.append('It')\n",
        "    CivilEng.append('Civil')\n",
        "    ElectricalEng.append('Electrical')\n",
        "    NutritionEng.append('Nutrition')\n",
        "    ComputerEng.append('Computer')\n",
        "\n",
        "print('\\n')\n",
        "print('It Engineers     : {}'.format(ItEng),'=',(len(ItEng)))\n",
        "print('Civil Engineers  : {}'.format(CivilEng),'=',(len(CivilEng)))\n",
        "print('Electrical Engineers : {}'.format(ElectricalEng),'=',(len(ElectricalEng)))\n",
        "print('Nutrition Engineers  : {}'.format(NutritionEng),'=',(len(NutritionEng)))\n",
        "print('Computer Engineers   : {}'.format(ComputerEng ),'=',(len(ComputerEng )),'\\n')\n",
        "\n",
        "\n",
        "Total_Engineers = []\n",
        "\n",
        "# create an array of all engineers\n",
        "\n",
        "Total_Engineers = ItEng + CivilEng + ElectricalEng + NutritionEng + ComputerEng\n",
        "shuffle(Total_Engineers)\n",
        "\n",
        "print('Tota Engineers: {} = {}\\n'.format(len(Total_Engineers), Total_Engineers ))\n",
        "\n",
        "Selected_ItEng = []\n",
        "Selected_CivilEng = []\n",
        "Selected_ElectricalEng = []\n",
        "Selected_NutritionEng = []\n",
        "Selected_ComputerEng = []\n",
        "\n",
        "for i in range(NumberOfEngineers * NumberOfSelectedEng):\n",
        "    Selected_Engs = Total_Engineers[i]\n",
        "    if Selected_Engs == 'It':\n",
        "        Selected_ItEng.append('It')\n",
        "    elif Selected_Engs == 'Civil':\n",
        "        Selected_CivilEng.append('Civil')\n",
        "    elif Selected_Engs == 'Electrical':\n",
        "        Selected_ElectricalEng.append('Electrical')\n",
        "    elif Selected_Engs == 'Nutrition':\n",
        "        Selected_NutritionEng.append('Nutrition')\n",
        "    elif Selected_Engs == 'Computer':\n",
        "        Selected_ComputerEng.append('Computer')\n",
        "\n",
        "    if len(Selected_ItEng) >= MaxNumberOfEng or len(Selected_CivilEng) >= MaxNumberOfEng or len(Selected_ElectricalEng) >= MaxNumberOfEng  or len(Selected_NutritionEng) >= MaxNumberOfEng  or len(Selected_ComputerEng) >= MaxNumberOfEng:\n",
        "        print('Number of selected engineers  : {}'.format(i+1))\n",
        "        print('Selected It Engineers : {} = {} '.format(Selected_ItEng,  len(Selected_ItEng)))\n",
        "        print('Selected Civil Engineers : {} = {} '.format(Selected_CivilEng, len(Selected_CivilEng)))\n",
        "        print('Selected Electrical Engineers : {} = {} '.format(Selected_ElectricalEng, len(Selected_ElectricalEng)))\n",
        "        print('Selected Nutrition Engineers : {} = {} '.format(Selected_NutritionEng,  len(Selected_NutritionEng)))\n",
        "        print('Selected Computer Engineers  : {} = {}  \\n'.format(Selected_ComputerEng,  len(Selected_ComputerEng)))\n",
        "        break"
      ],
      "metadata": {
        "id": "IPfC07vwR6PX",
        "outputId": "26004067-7254-4aa8-9406-3724b82ca5ba",
        "colab": {
          "base_uri": "https://localhost:8080/"
        }
      },
      "execution_count": 1,
      "outputs": [
        {
          "output_type": "stream",
          "name": "stdout",
          "text": [
            "6\n",
            "\n",
            "\n",
            "It Engineers     : ['It', 'It', 'It', 'It', 'It', 'It', 'It', 'It', 'It', 'It', 'It', 'It', 'It', 'It', 'It', 'It', 'It', 'It', 'It', 'It'] = 20\n",
            "Civil Engineers  : ['Civil', 'Civil', 'Civil', 'Civil', 'Civil', 'Civil', 'Civil', 'Civil', 'Civil', 'Civil', 'Civil', 'Civil', 'Civil', 'Civil', 'Civil', 'Civil', 'Civil', 'Civil', 'Civil', 'Civil'] = 20\n",
            "Electrical Engineers : ['Electrical', 'Electrical', 'Electrical', 'Electrical', 'Electrical', 'Electrical', 'Electrical', 'Electrical', 'Electrical', 'Electrical', 'Electrical', 'Electrical', 'Electrical', 'Electrical', 'Electrical', 'Electrical', 'Electrical', 'Electrical', 'Electrical', 'Electrical'] = 20\n",
            "Nutrition Engineers  : ['Nutrition', 'Nutrition', 'Nutrition', 'Nutrition', 'Nutrition', 'Nutrition', 'Nutrition', 'Nutrition', 'Nutrition', 'Nutrition', 'Nutrition', 'Nutrition', 'Nutrition', 'Nutrition', 'Nutrition', 'Nutrition', 'Nutrition', 'Nutrition', 'Nutrition', 'Nutrition'] = 20\n",
            "Computer Engineers   : ['Computer', 'Computer', 'Computer', 'Computer', 'Computer', 'Computer', 'Computer', 'Computer', 'Computer', 'Computer', 'Computer', 'Computer', 'Computer', 'Computer', 'Computer', 'Computer', 'Computer', 'Computer', 'Computer', 'Computer'] = 20 \n",
            "\n",
            "Tota Engineers: 100 = ['Civil', 'Nutrition', 'Nutrition', 'Civil', 'Civil', 'Electrical', 'It', 'Computer', 'Nutrition', 'It', 'Civil', 'Nutrition', 'Electrical', 'It', 'Electrical', 'Civil', 'Nutrition', 'Electrical', 'Computer', 'Civil', 'Nutrition', 'It', 'Nutrition', 'Computer', 'Nutrition', 'It', 'Civil', 'It', 'Nutrition', 'Nutrition', 'Computer', 'Computer', 'Electrical', 'Computer', 'Nutrition', 'Computer', 'Computer', 'It', 'Electrical', 'Electrical', 'It', 'Civil', 'Civil', 'Nutrition', 'Electrical', 'Computer', 'It', 'Civil', 'Electrical', 'Computer', 'Nutrition', 'Civil', 'Civil', 'Nutrition', 'Computer', 'It', 'Civil', 'Computer', 'Nutrition', 'Electrical', 'Nutrition', 'Computer', 'It', 'Computer', 'Electrical', 'Electrical', 'Electrical', 'It', 'Electrical', 'Computer', 'Nutrition', 'It', 'Computer', 'It', 'Electrical', 'Civil', 'Electrical', 'Nutrition', 'Nutrition', 'Electrical', 'It', 'Electrical', 'Civil', 'Computer', 'Computer', 'Civil', 'Civil', 'Computer', 'It', 'It', 'Civil', 'Civil', 'It', 'Electrical', 'Electrical', 'It', 'It', 'Nutrition', 'Civil', 'Computer']\n",
            "\n",
            "Number of selected engineers  : 20\n",
            "Selected It Engineers : ['It', 'It', 'It'] = 3 \n",
            "Selected Civil Engineers : ['Civil', 'Civil', 'Civil', 'Civil', 'Civil', 'Civil'] = 6 \n",
            "Selected Electrical Engineers : ['Electrical', 'Electrical', 'Electrical', 'Electrical'] = 4 \n",
            "Selected Nutrition Engineers : ['Nutrition', 'Nutrition', 'Nutrition', 'Nutrition', 'Nutrition'] = 5 \n",
            "Selected Computer Engineers  : ['Computer', 'Computer'] = 2  \n",
            "\n"
          ]
        }
      ]
    }
  ],
  "metadata": {
    "colab": {
      "name": "Welcome to Colaboratory",
      "toc_visible": true,
      "provenance": [],
      "include_colab_link": true
    },
    "kernelspec": {
      "display_name": "Python 3",
      "name": "python3"
    }
  },
  "nbformat": 4,
  "nbformat_minor": 0
}